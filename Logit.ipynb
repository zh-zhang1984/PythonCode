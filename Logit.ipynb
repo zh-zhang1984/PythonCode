{
 "cells": [
  {
   "cell_type": "markdown",
   "metadata": {},
   "source": [
    "# Logistic regression mdoel代码大全"
   ]
  },
  {
   "cell_type": "code",
   "execution_count": 1,
   "metadata": {},
   "outputs": [],
   "source": [
    "import pandas as pd\n",
    "import seaborn as sb\n",
    "import numpy as np\n",
    "import statsmodels.api as sm"
   ]
  },
  {
   "cell_type": "code",
   "execution_count": 2,
   "metadata": {},
   "outputs": [
    {
     "data": {
      "text/html": [
       "<div>\n",
       "<style scoped>\n",
       "    .dataframe tbody tr th:only-of-type {\n",
       "        vertical-align: middle;\n",
       "    }\n",
       "\n",
       "    .dataframe tbody tr th {\n",
       "        vertical-align: top;\n",
       "    }\n",
       "\n",
       "    .dataframe thead th {\n",
       "        text-align: right;\n",
       "    }\n",
       "</style>\n",
       "<table border=\"1\" class=\"dataframe\">\n",
       "  <thead>\n",
       "    <tr style=\"text-align: right;\">\n",
       "      <th></th>\n",
       "      <th>age</th>\n",
       "      <th>gender</th>\n",
       "      <th>lac</th>\n",
       "      <th>type</th>\n",
       "      <th>vaso</th>\n",
       "      <th>wbc</th>\n",
       "      <th>crp</th>\n",
       "      <th>mort</th>\n",
       "    </tr>\n",
       "  </thead>\n",
       "  <tbody>\n",
       "    <tr>\n",
       "      <th>0</th>\n",
       "      <td>62</td>\n",
       "      <td>male</td>\n",
       "      <td>7.6</td>\n",
       "      <td>surgery</td>\n",
       "      <td>No</td>\n",
       "      <td>6.5</td>\n",
       "      <td>NaN</td>\n",
       "      <td>1</td>\n",
       "    </tr>\n",
       "    <tr>\n",
       "      <th>1</th>\n",
       "      <td>67</td>\n",
       "      <td>male</td>\n",
       "      <td>4.3</td>\n",
       "      <td>medical</td>\n",
       "      <td>Yes</td>\n",
       "      <td>NaN</td>\n",
       "      <td>141.1</td>\n",
       "      <td>1</td>\n",
       "    </tr>\n",
       "    <tr>\n",
       "      <th>2</th>\n",
       "      <td>93</td>\n",
       "      <td>male</td>\n",
       "      <td>5.5</td>\n",
       "      <td>surgery</td>\n",
       "      <td>No</td>\n",
       "      <td>9.3</td>\n",
       "      <td>37.0</td>\n",
       "      <td>1</td>\n",
       "    </tr>\n",
       "    <tr>\n",
       "      <th>3</th>\n",
       "      <td>71</td>\n",
       "      <td>female</td>\n",
       "      <td>4.9</td>\n",
       "      <td>emergency</td>\n",
       "      <td>No</td>\n",
       "      <td>4.4</td>\n",
       "      <td>NaN</td>\n",
       "      <td>1</td>\n",
       "    </tr>\n",
       "    <tr>\n",
       "      <th>4</th>\n",
       "      <td>72</td>\n",
       "      <td>female</td>\n",
       "      <td>4.1</td>\n",
       "      <td>medical</td>\n",
       "      <td>No</td>\n",
       "      <td>12.3</td>\n",
       "      <td>212.7</td>\n",
       "      <td>1</td>\n",
       "    </tr>\n",
       "  </tbody>\n",
       "</table>\n",
       "</div>"
      ],
      "text/plain": [
       "   age  gender  lac       type vaso   wbc    crp  mort\n",
       "0   62    male  7.6    surgery   No   6.5    NaN     1\n",
       "1   67    male  4.3    medical  Yes   NaN  141.1     1\n",
       "2   93    male  5.5    surgery   No   9.3   37.0     1\n",
       "3   71  female  4.9  emergency   No   4.4    NaN     1\n",
       "4   72  female  4.1    medical   No  12.3  212.7     1"
      ]
     },
     "execution_count": 2,
     "metadata": {},
     "output_type": "execute_result"
    }
   ],
   "source": [
    "file = \"/Users/zhang/Documents/2018/R大数据实战教程/模型预测/dt.csv\"\n",
    "dt = pd.read_csv(file)\n",
    "dt.head()"
   ]
  },
  {
   "cell_type": "code",
   "execution_count": 3,
   "metadata": {},
   "outputs": [
    {
     "data": {
      "text/plain": [
       "<matplotlib.axes._subplots.AxesSubplot at 0x1a1d3a00b8>"
      ]
     },
     "execution_count": 3,
     "metadata": {},
     "output_type": "execute_result"
    },
    {
     "data": {
      "image/png": "[encoded data removed]",
      "text/plain": [
       "<Figure size 432x288 with 1 Axes>"
      ]
     },
     "metadata": {
      "needs_background": "light"
     },
     "output_type": "display_data"
    }
   ],
   "source": [
    "#两组间比较的可视化\n",
    "sb.countplot(x='mort',data=dt, palette='hls')"
   ]
  },
  {
   "cell_type": "code",
   "execution_count": 4,
   "metadata": {},
   "outputs": [
    {
     "data": {
      "image/png": "[encoded data removed]",
      "text/plain": [
       "<Figure size 432x288 with 1 Axes>"
      ]
     },
     "metadata": {
      "needs_background": "light"
     },
     "output_type": "display_data"
    }
   ],
   "source": [
    "import matplotlib.pyplot as plt \n",
    "sb.countplot(y=\"type\", data=dt)\n",
    "plt.show()"
   ]
  },
  {
   "cell_type": "code",
   "execution_count": 5,
   "metadata": {},
   "outputs": [
    {
     "data": {
      "text/plain": [
       "age         0\n",
       "gender      0\n",
       "lac        37\n",
       "type        0\n",
       "vaso        0\n",
       "wbc        96\n",
       "crp       115\n",
       "mort        0\n",
       "dtype: int64"
      ]
     },
     "execution_count": 5,
     "metadata": {},
     "output_type": "execute_result"
    }
   ],
   "source": [
    "dt.isnull().sum()"
   ]
  },
  {
   "cell_type": "code",
   "execution_count": 6,
   "metadata": {},
   "outputs": [
    {
     "data": {
      "text/plain": [
       "age         int64\n",
       "gender     object\n",
       "lac       float64\n",
       "type       object\n",
       "vaso       object\n",
       "wbc       float64\n",
       "crp       float64\n",
       "mort        int64\n",
       "dtype: object"
      ]
     },
     "execution_count": 6,
     "metadata": {},
     "output_type": "execute_result"
    }
   ],
   "source": [
    "dt.tail()\n",
    "dt.dtypes"
   ]
  },
  {
   "cell_type": "code",
   "execution_count": 7,
   "metadata": {},
   "outputs": [
    {
     "data": {
      "text/html": [
       "<div>\n",
       "<style scoped>\n",
       "    .dataframe tbody tr th:only-of-type {\n",
       "        vertical-align: middle;\n",
       "    }\n",
       "\n",
       "    .dataframe tbody tr th {\n",
       "        vertical-align: top;\n",
       "    }\n",
       "\n",
       "    .dataframe thead th {\n",
       "        text-align: right;\n",
       "    }\n",
       "</style>\n",
       "<table border=\"1\" class=\"dataframe\">\n",
       "  <thead>\n",
       "    <tr style=\"text-align: right;\">\n",
       "      <th></th>\n",
       "      <th>age</th>\n",
       "      <th>gender</th>\n",
       "      <th>lac</th>\n",
       "      <th>type</th>\n",
       "      <th>vaso</th>\n",
       "      <th>wbc</th>\n",
       "      <th>crp</th>\n",
       "      <th>mort</th>\n",
       "    </tr>\n",
       "  </thead>\n",
       "  <tbody>\n",
       "    <tr>\n",
       "      <th>495</th>\n",
       "      <td>50</td>\n",
       "      <td>female</td>\n",
       "      <td>5.8</td>\n",
       "      <td>emergency</td>\n",
       "      <td>Yes</td>\n",
       "      <td>0.5</td>\n",
       "      <td>93.9</td>\n",
       "      <td>1</td>\n",
       "    </tr>\n",
       "    <tr>\n",
       "      <th>496</th>\n",
       "      <td>73</td>\n",
       "      <td>female</td>\n",
       "      <td>4.9</td>\n",
       "      <td>surgery</td>\n",
       "      <td>Yes</td>\n",
       "      <td>12.1</td>\n",
       "      <td>139.4</td>\n",
       "      <td>1</td>\n",
       "    </tr>\n",
       "    <tr>\n",
       "      <th>497</th>\n",
       "      <td>72</td>\n",
       "      <td>male</td>\n",
       "      <td>5.6</td>\n",
       "      <td>emergency</td>\n",
       "      <td>No</td>\n",
       "      <td>8.5</td>\n",
       "      <td>47.3</td>\n",
       "      <td>1</td>\n",
       "    </tr>\n",
       "    <tr>\n",
       "      <th>498</th>\n",
       "      <td>75</td>\n",
       "      <td>female</td>\n",
       "      <td>7.3</td>\n",
       "      <td>medical</td>\n",
       "      <td>No</td>\n",
       "      <td>8.5</td>\n",
       "      <td>279.5</td>\n",
       "      <td>1</td>\n",
       "    </tr>\n",
       "    <tr>\n",
       "      <th>499</th>\n",
       "      <td>78</td>\n",
       "      <td>male</td>\n",
       "      <td>5.3</td>\n",
       "      <td>medical</td>\n",
       "      <td>No</td>\n",
       "      <td>2.3</td>\n",
       "      <td>279.5</td>\n",
       "      <td>1</td>\n",
       "    </tr>\n",
       "  </tbody>\n",
       "</table>\n",
       "</div>"
      ],
      "text/plain": [
       "     age  gender  lac       type vaso   wbc    crp  mort\n",
       "495   50  female  5.8  emergency  Yes   0.5   93.9     1\n",
       "496   73  female  4.9    surgery  Yes  12.1  139.4     1\n",
       "497   72    male  5.6  emergency   No   8.5   47.3     1\n",
       "498   75  female  7.3    medical   No   8.5  279.5     1\n",
       "499   78    male  5.3    medical   No   2.3  279.5     1"
      ]
     },
     "execution_count": 7,
     "metadata": {},
     "output_type": "execute_result"
    }
   ],
   "source": [
    "#imputation for missing values\n",
    "dtcom = dt.fillna(method='pad')\n",
    "ColMean = dtcom.select_dtypes(exclude='object').apply(np.mean)\n",
    "ColMean\n",
    "dtcom = dtcom.fillna(value=ColMean)\n",
    "dtcom.isnull().sum()\n",
    "dtcom.tail()"
   ]
  },
  {
   "cell_type": "code",
   "execution_count": 8,
   "metadata": {},
   "outputs": [],
   "source": [
    "import statsmodels.api as sm\n",
    "import pylab as pl "
   ]
  },
  {
   "cell_type": "code",
   "execution_count": 9,
   "metadata": {
    "scrolled": true
   },
   "outputs": [
    {
     "data": {
      "text/html": [
       "<div>\n",
       "<style scoped>\n",
       "    .dataframe tbody tr th:only-of-type {\n",
       "        vertical-align: middle;\n",
       "    }\n",
       "\n",
       "    .dataframe tbody tr th {\n",
       "        vertical-align: top;\n",
       "    }\n",
       "\n",
       "    .dataframe thead th {\n",
       "        text-align: right;\n",
       "    }\n",
       "</style>\n",
       "<table border=\"1\" class=\"dataframe\">\n",
       "  <thead>\n",
       "    <tr style=\"text-align: right;\">\n",
       "      <th>type</th>\n",
       "      <th>emergency</th>\n",
       "      <th>medical</th>\n",
       "      <th>surgery</th>\n",
       "    </tr>\n",
       "    <tr>\n",
       "      <th>mort</th>\n",
       "      <th></th>\n",
       "      <th></th>\n",
       "      <th></th>\n",
       "    </tr>\n",
       "  </thead>\n",
       "  <tbody>\n",
       "    <tr>\n",
       "      <th>0</th>\n",
       "      <td>38</td>\n",
       "      <td>21</td>\n",
       "      <td>56</td>\n",
       "    </tr>\n",
       "    <tr>\n",
       "      <th>1</th>\n",
       "      <td>155</td>\n",
       "      <td>126</td>\n",
       "      <td>104</td>\n",
       "    </tr>\n",
       "  </tbody>\n",
       "</table>\n",
       "</div>"
      ],
      "text/plain": [
       "type  emergency  medical  surgery\n",
       "mort                             \n",
       "0            38       21       56\n",
       "1           155      126      104"
      ]
     },
     "execution_count": 9,
     "metadata": {},
     "output_type": "execute_result"
    }
   ],
   "source": [
    "#data exploration\n",
    "pd.crosstab(dt['mort'], dt['type'], rownames=['mort'])"
   ]
  },
  {
   "cell_type": "code",
   "execution_count": 10,
   "metadata": {},
   "outputs": [
    {
     "data": {
      "image/png": "[encoded data removed]",
      "text/plain": [
       "<Figure size 432x288 with 1 Axes>"
      ]
     },
     "metadata": {
      "needs_background": "light"
     },
     "output_type": "display_data"
    }
   ],
   "source": [
    "# plot one column\n",
    "dt['crp'].hist()\n",
    "pl.title('Histogram of CRP distribution')\n",
    "pl.xlabel('CRP (mg/dl)')\n",
    "pl.ylabel('Frequency')\n",
    "pl.show()"
   ]
  },
  {
   "cell_type": "code",
   "execution_count": 11,
   "metadata": {},
   "outputs": [
    {
     "data": {
      "text/plain": [
       "<matplotlib.axes._subplots.AxesSubplot at 0x1c1ea7c320>"
      ]
     },
     "execution_count": 11,
     "metadata": {},
     "output_type": "execute_result"
    },
    {
     "data": {
      "image/png": "[encoded data removed]",
      "text/plain": [
       "<Figure size 432x288 with 2 Axes>"
      ]
     },
     "metadata": {
      "needs_background": "light"
     },
     "output_type": "display_data"
    }
   ],
   "source": [
    "sb.heatmap(dt.corr())  "
   ]
  },
  {
   "cell_type": "code",
   "execution_count": 12,
   "metadata": {},
   "outputs": [
    {
     "data": {
      "image/png": "[encoded data removed]",
      "text/plain": [
       "<Figure size 432x288 with 1 Axes>"
      ]
     },
     "metadata": {
      "needs_background": "light"
     },
     "output_type": "display_data"
    }
   ],
   "source": [
    "# barplot of WBC grouped by discharge status (True or False)\n",
    "pd.crosstab(dtcom.type, dtcom.mort.astype(bool)).plot(kind='bar')\n",
    "pl.title('Type by mortality Status')\n",
    "pl.xlabel('Type')\n",
    "pl.ylabel('Frequency')\n",
    "pl.show()"
   ]
  },
  {
   "cell_type": "code",
   "execution_count": 13,
   "metadata": {},
   "outputs": [],
   "source": [
    "import scipy"
   ]
  },
  {
   "cell_type": "code",
   "execution_count": 14,
   "metadata": {},
   "outputs": [
    {
     "data": {
      "text/html": [
       "<div>\n",
       "<style scoped>\n",
       "    .dataframe tbody tr th:only-of-type {\n",
       "        vertical-align: middle;\n",
       "    }\n",
       "\n",
       "    .dataframe tbody tr th {\n",
       "        vertical-align: top;\n",
       "    }\n",
       "\n",
       "    .dataframe thead th {\n",
       "        text-align: right;\n",
       "    }\n",
       "</style>\n",
       "<table border=\"1\" class=\"dataframe\">\n",
       "  <thead>\n",
       "    <tr style=\"text-align: right;\">\n",
       "      <th></th>\n",
       "      <th>0</th>\n",
       "      <th>1</th>\n",
       "      <th>statistic</th>\n",
       "      <th>pvalue</th>\n",
       "    </tr>\n",
       "  </thead>\n",
       "  <tbody>\n",
       "    <tr>\n",
       "      <th>age</th>\n",
       "      <td>58.48±11.43</td>\n",
       "      <td>74.13±13.51</td>\n",
       "      <td>-11.274240</td>\n",
       "      <td>&lt;0.001</td>\n",
       "    </tr>\n",
       "    <tr>\n",
       "      <th>crp</th>\n",
       "      <td>108.77±57.57</td>\n",
       "      <td>157.75±76.2</td>\n",
       "      <td>-6.370446</td>\n",
       "      <td>&lt;0.001</td>\n",
       "    </tr>\n",
       "    <tr>\n",
       "      <th>lac</th>\n",
       "      <td>3.73±1.87</td>\n",
       "      <td>5.08±1.88</td>\n",
       "      <td>-6.765038</td>\n",
       "      <td>&lt;0.001</td>\n",
       "    </tr>\n",
       "  </tbody>\n",
       "</table>\n",
       "</div>"
      ],
      "text/plain": [
       "                0            1  statistic  pvalue\n",
       "age   58.48±11.43  74.13±13.51 -11.274240  <0.001\n",
       "crp  108.77±57.57  157.75±76.2  -6.370446  <0.001\n",
       "lac     3.73±1.87    5.08±1.88  -6.765038  <0.001"
      ]
     },
     "execution_count": 14,
     "metadata": {},
     "output_type": "execute_result"
    }
   ],
   "source": [
    "#Univariate description(best to output a publicaion-style table)\n",
    "gvar = 'mort'\n",
    "VarContNor = ['age','crp','lac']\n",
    "mean=dtcom.groupby(gvar)[VarContNor].mean()\n",
    "sd=dtcom.groupby(gvar)[VarContNor].std()\n",
    "mean = mean.round(2).astype(str)\n",
    "sd = sd.round(2).astype(str)\n",
    "dtNor = pd.DataFrame(mean+u\"\\u00B1\"+sd).T\n",
    "# create an empty dictionary\n",
    "t_test_results = {}\n",
    "# loop over column_list and execute code explained above\n",
    "for column in VarContNor:\n",
    "    group1 = dtcom.where(dtcom[gvar]== 0).dropna()[column]\n",
    "    group2 = dtcom.where(dtcom[gvar]== 1).dropna()[column]\n",
    "    # add the output to the dictionary \n",
    "    t_test_results[column] = scipy.stats.ttest_ind(group1,group2)\n",
    "results_df = pd.DataFrame.from_dict(t_test_results,orient='Index')\n",
    "results_df.columns = ['statistic','pvalue']\n",
    "results_df.pvalue.where(results_df.pvalue<0.001,\n",
    "                        results_df.pvalue.round(3),inplace=True)\n",
    "results_df.pvalue.where(results_df.pvalue>=0.001,'<0.001',inplace=True)#need to apply to only the pvalue column\n",
    "DtNor = dtNor.join(results_df)\n",
    "DtNor"
   ]
  },
  {
   "cell_type": "code",
   "execution_count": 17,
   "metadata": {},
   "outputs": [
    {
     "name": "stdout",
     "output_type": "stream",
     "text": [
      "            wbc    crp\n",
      "mort                  \n",
      "0    0.25   6.8   66.1\n",
      "     0.75  14.3  150.9\n",
      "1    0.25   6.8  101.1\n",
      "     0.75  13.1  212.0\n"
     ]
    },
    {
     "data": {
      "text/html": [
       "<div>\n",
       "<style scoped>\n",
       "    .dataframe tbody tr th:only-of-type {\n",
       "        vertical-align: middle;\n",
       "    }\n",
       "\n",
       "    .dataframe tbody tr th {\n",
       "        vertical-align: top;\n",
       "    }\n",
       "\n",
       "    .dataframe thead th {\n",
       "        text-align: right;\n",
       "    }\n",
       "</style>\n",
       "<table border=\"1\" class=\"dataframe\">\n",
       "  <thead>\n",
       "    <tr style=\"text-align: right;\">\n",
       "      <th></th>\n",
       "      <th>0</th>\n",
       "      <th>1</th>\n",
       "      <th>statistic</th>\n",
       "      <th>pvalue</th>\n",
       "    </tr>\n",
       "  </thead>\n",
       "  <tbody>\n",
       "    <tr>\n",
       "      <th>wbc</th>\n",
       "      <td>10.6 (6.8,14.3)</td>\n",
       "      <td>9.8 (6.8,13.1)</td>\n",
       "      <td>20795.5</td>\n",
       "      <td>0.162</td>\n",
       "    </tr>\n",
       "    <tr>\n",
       "      <th>crp</th>\n",
       "      <td>111.7 (66.1,150.9)</td>\n",
       "      <td>156.2 (101.1,212.0)</td>\n",
       "      <td>13801.0</td>\n",
       "      <td>&lt;0.001</td>\n",
       "    </tr>\n",
       "  </tbody>\n",
       "</table>\n",
       "</div>"
      ],
      "text/plain": [
       "                      0                    1  statistic  pvalue\n",
       "wbc     10.6 (6.8,14.3)       9.8 (6.8,13.1)    20795.5   0.162\n",
       "crp  111.7 (66.1,150.9)  156.2 (101.1,212.0)    13801.0  <0.001"
      ]
     },
     "execution_count": 17,
     "metadata": {},
     "output_type": "execute_result"
    }
   ],
   "source": [
    "VarContSkew = ['wbc','crp']\n",
    "median = dtcom.groupby(gvar)[VarContSkew].median()\n",
    "median = median.round(2).astype(str)\n",
    "iqr = dtcom.groupby(gvar)[VarContSkew].quantile([0.25,0.75])\n",
    "iqr = iqr.round(2).astype(str)\n",
    "print(iqr)\n",
    "dtSkewIQR = iqr.apply(lambda x: ['('+x.iloc[0]+','+x.iloc[1]+')',\n",
    "                                 '('+x.iloc[2]+','+x.iloc[3]+')'],result_type='expand')\n",
    "dtSkew = (median+' '+dtSkewIQR).T\n",
    "dtSkew\n",
    "wilcoxon_test_results = {}\n",
    "# loop over column_list and execute code explained above\n",
    "for column in VarContSkew:\n",
    "    group1 = dtcom.where(dtcom[gvar]== 0).dropna()[column]\n",
    "    group2 = dtcom.where(dtcom[gvar]== 1).dropna()[column]\n",
    "    # add the output to the dictionary \n",
    "    wilcoxon_test_results[column] = scipy.stats.mannwhitneyu(group1,group2)\n",
    "results_df = pd.DataFrame.from_dict(wilcoxon_test_results,orient='Index')\n",
    "results_df.columns = ['statistic','pvalue']\n",
    "results_df.pvalue.where(results_df.pvalue<0.001,\n",
    "                        results_df.pvalue.round(3),inplace=True)\n",
    "results_df.pvalue.where(results_df.pvalue>=0.001,\n",
    "                        '<0.001',inplace=True)#need to apply to only the pvalue column\n",
    "DtSkew = dtSkew.join(results_df)\n",
    "DtSkew"
   ]
  },
  {
   "cell_type": "code",
   "execution_count": 16,
   "metadata": {},
   "outputs": [
    {
     "ename": "SyntaxError",
     "evalue": "invalid syntax (<ipython-input-16-385bd046f0c2>, line 1)",
     "output_type": "error",
     "traceback": [
      "\u001b[0;36m  File \u001b[0;32m\"<ipython-input-16-385bd046f0c2>\"\u001b[0;36m, line \u001b[0;32m1\u001b[0m\n\u001b[0;31m    python __version__\u001b[0m\n\u001b[0m                     ^\u001b[0m\n\u001b[0;31mSyntaxError\u001b[0m\u001b[0;31m:\u001b[0m invalid syntax\n"
     ]
    }
   ],
   "source": []
  },
  {
   "cell_type": "code",
   "execution_count": 18,
   "metadata": {},
   "outputs": [
    {
     "data": {
      "text/html": [
       "<div>\n",
       "<style scoped>\n",
       "    .dataframe tbody tr th:only-of-type {\n",
       "        vertical-align: middle;\n",
       "    }\n",
       "\n",
       "    .dataframe tbody tr th {\n",
       "        vertical-align: top;\n",
       "    }\n",
       "\n",
       "    .dataframe thead th {\n",
       "        text-align: right;\n",
       "    }\n",
       "</style>\n",
       "<table border=\"1\" class=\"dataframe\">\n",
       "  <thead>\n",
       "    <tr style=\"text-align: right;\">\n",
       "      <th></th>\n",
       "      <th>0</th>\n",
       "      <th>1</th>\n",
       "      <th>statistic</th>\n",
       "      <th>pvalue</th>\n",
       "    </tr>\n",
       "  </thead>\n",
       "  <tbody>\n",
       "    <tr>\n",
       "      <th>type</th>\n",
       "      <td></td>\n",
       "      <td></td>\n",
       "      <td>20.5074</td>\n",
       "      <td>&lt;0.001</td>\n",
       "    </tr>\n",
       "    <tr>\n",
       "      <th>emergency</th>\n",
       "      <td>38(33.0)</td>\n",
       "      <td>155(40.3)</td>\n",
       "      <td></td>\n",
       "      <td></td>\n",
       "    </tr>\n",
       "    <tr>\n",
       "      <th>medical</th>\n",
       "      <td>21(18.3)</td>\n",
       "      <td>126(32.7)</td>\n",
       "      <td></td>\n",
       "      <td></td>\n",
       "    </tr>\n",
       "    <tr>\n",
       "      <th>surgery</th>\n",
       "      <td>56(48.7)</td>\n",
       "      <td>104(27.0)</td>\n",
       "      <td></td>\n",
       "      <td></td>\n",
       "    </tr>\n",
       "    <tr>\n",
       "      <th>gender</th>\n",
       "      <td></td>\n",
       "      <td></td>\n",
       "      <td>0.00325376</td>\n",
       "      <td>0.955</td>\n",
       "    </tr>\n",
       "    <tr>\n",
       "      <th>female</th>\n",
       "      <td>44(38.3)</td>\n",
       "      <td>144(37.4)</td>\n",
       "      <td></td>\n",
       "      <td></td>\n",
       "    </tr>\n",
       "    <tr>\n",
       "      <th>male</th>\n",
       "      <td>71(61.7)</td>\n",
       "      <td>241(62.6)</td>\n",
       "      <td></td>\n",
       "      <td></td>\n",
       "    </tr>\n",
       "  </tbody>\n",
       "</table>\n",
       "</div>"
      ],
      "text/plain": [
       "                  0          1   statistic     pvalue\n",
       "type                               20.5074     <0.001\n",
       "emergency  38(33.0)  155(40.3)                       \n",
       "medical    21(18.3)  126(32.7)                       \n",
       "surgery    56(48.7)  104(27.0)                       \n",
       "gender                          0.00325376      0.955\n",
       "female     44(38.3)  144(37.4)                       \n",
       "male       71(61.7)  241(62.6)                       "
      ]
     },
     "execution_count": 18,
     "metadata": {},
     "output_type": "execute_result"
    }
   ],
   "source": [
    "#categorical variable\n",
    "VarCat = ['type','gender']\n",
    "dtFreq =pd.DataFrame()\n",
    "for var in VarCat:\n",
    "    tabfreq = pd.crosstab(dtcom[var],dtcom[gvar])\n",
    "    chisq = scipy.stats.chi2_contingency(tabfreq,correction=True)[0:2]# apply Yates’ correction for continuity\n",
    "    chisq_mu = list(chisq)#transform to mutable list\n",
    "    if chisq_mu[1]< 0.001:\n",
    "       chisq_mu[1]='<0.001' \n",
    "    elif chisq_mu[1]>= 0.001:\n",
    "       chisq_mu[1]=chisq[1].round(3)\n",
    "    tabpercent = (tabfreq.apply(lambda r: r/r.sum())*100).round(1)\n",
    "    tabfreq_str = tabfreq.astype(str)+'('+tabpercent.astype(str)+')'\n",
    "    tabP_blank = tabfreq_str.replace(regex='.',value=' ')\n",
    "    tabfreq_blank = pd.DataFrame([' ',' '],columns=[var]).T.append(tabfreq_str)\n",
    "    tabP = pd.DataFrame(chisq_mu,columns=[var],).T.append(tabP_blank)\n",
    "    tabP.columns= ['statistic','pvalue']\n",
    "    tabfreqP = tabfreq_blank.join(tabP)\n",
    "    dtFreq = dtFreq.append(tabfreqP)\n",
    "dtFreq"
   ]
  },
  {
   "cell_type": "code",
   "execution_count": 19,
   "metadata": {},
   "outputs": [
    {
     "data": {
      "text/html": [
       "<div>\n",
       "<style scoped>\n",
       "    .dataframe tbody tr th:only-of-type {\n",
       "        vertical-align: middle;\n",
       "    }\n",
       "\n",
       "    .dataframe tbody tr th {\n",
       "        vertical-align: top;\n",
       "    }\n",
       "\n",
       "    .dataframe thead th {\n",
       "        text-align: right;\n",
       "    }\n",
       "</style>\n",
       "<table border=\"1\" class=\"dataframe\">\n",
       "  <thead>\n",
       "    <tr style=\"text-align: right;\">\n",
       "      <th></th>\n",
       "      <th>0</th>\n",
       "      <th>1</th>\n",
       "      <th>statistic</th>\n",
       "      <th>pvalue</th>\n",
       "    </tr>\n",
       "  </thead>\n",
       "  <tbody>\n",
       "    <tr>\n",
       "      <th>type</th>\n",
       "      <td></td>\n",
       "      <td></td>\n",
       "      <td>20.5074</td>\n",
       "      <td>&lt;0.001</td>\n",
       "    </tr>\n",
       "    <tr>\n",
       "      <th>emergency</th>\n",
       "      <td>38(33.0)</td>\n",
       "      <td>155(40.3)</td>\n",
       "      <td></td>\n",
       "      <td></td>\n",
       "    </tr>\n",
       "    <tr>\n",
       "      <th>medical</th>\n",
       "      <td>21(18.3)</td>\n",
       "      <td>126(32.7)</td>\n",
       "      <td></td>\n",
       "      <td></td>\n",
       "    </tr>\n",
       "    <tr>\n",
       "      <th>surgery</th>\n",
       "      <td>56(48.7)</td>\n",
       "      <td>104(27.0)</td>\n",
       "      <td></td>\n",
       "      <td></td>\n",
       "    </tr>\n",
       "    <tr>\n",
       "      <th>gender</th>\n",
       "      <td></td>\n",
       "      <td></td>\n",
       "      <td>0.00325376</td>\n",
       "      <td>0.955</td>\n",
       "    </tr>\n",
       "    <tr>\n",
       "      <th>female</th>\n",
       "      <td>44(38.3)</td>\n",
       "      <td>144(37.4)</td>\n",
       "      <td></td>\n",
       "      <td></td>\n",
       "    </tr>\n",
       "    <tr>\n",
       "      <th>male</th>\n",
       "      <td>71(61.7)</td>\n",
       "      <td>241(62.6)</td>\n",
       "      <td></td>\n",
       "      <td></td>\n",
       "    </tr>\n",
       "    <tr>\n",
       "      <th>wbc</th>\n",
       "      <td>10.6 (6.8,14.3)</td>\n",
       "      <td>9.8 (6.8,13.1)</td>\n",
       "      <td>20795.5</td>\n",
       "      <td>0.162</td>\n",
       "    </tr>\n",
       "    <tr>\n",
       "      <th>crp</th>\n",
       "      <td>111.7 (66.1,150.9)</td>\n",
       "      <td>156.2 (101.1,212.0)</td>\n",
       "      <td>13801</td>\n",
       "      <td>&lt;0.001</td>\n",
       "    </tr>\n",
       "    <tr>\n",
       "      <th>age</th>\n",
       "      <td>58.48±11.43</td>\n",
       "      <td>74.13±13.51</td>\n",
       "      <td>-11.2742</td>\n",
       "      <td>&lt;0.001</td>\n",
       "    </tr>\n",
       "    <tr>\n",
       "      <th>crp</th>\n",
       "      <td>108.77±57.57</td>\n",
       "      <td>157.75±76.2</td>\n",
       "      <td>-6.37045</td>\n",
       "      <td>&lt;0.001</td>\n",
       "    </tr>\n",
       "    <tr>\n",
       "      <th>lac</th>\n",
       "      <td>3.73±1.87</td>\n",
       "      <td>5.08±1.88</td>\n",
       "      <td>-6.76504</td>\n",
       "      <td>&lt;0.001</td>\n",
       "    </tr>\n",
       "  </tbody>\n",
       "</table>\n",
       "</div>"
      ],
      "text/plain": [
       "                            0                    1   statistic     pvalue\n",
       "type                                                   20.5074     <0.001\n",
       "emergency            38(33.0)            155(40.3)                       \n",
       "medical              21(18.3)            126(32.7)                       \n",
       "surgery              56(48.7)            104(27.0)                       \n",
       "gender                                              0.00325376      0.955\n",
       "female               44(38.3)            144(37.4)                       \n",
       "male                 71(61.7)            241(62.6)                       \n",
       "wbc           10.6 (6.8,14.3)       9.8 (6.8,13.1)     20795.5      0.162\n",
       "crp        111.7 (66.1,150.9)  156.2 (101.1,212.0)       13801     <0.001\n",
       "age               58.48±11.43          74.13±13.51    -11.2742     <0.001\n",
       "crp              108.77±57.57          157.75±76.2    -6.37045     <0.001\n",
       "lac                 3.73±1.87            5.08±1.88    -6.76504     <0.001"
      ]
     },
     "execution_count": 19,
     "metadata": {},
     "output_type": "execute_result"
    }
   ],
   "source": [
    "#combine all analysis together\n",
    "Tab1 = dtFreq.append(DtSkew).append(DtNor)\n",
    "Tab1 "
   ]
  },
  {
   "cell_type": "code",
   "execution_count": 20,
   "metadata": {},
   "outputs": [
    {
     "name": "stdout",
     "output_type": "stream",
     "text": [
      "   type_emergency  type_medical  type_surgery  type_female  type_male  \\\n",
      "0               0             0             1            0          1   \n",
      "1               0             1             0            0          1   \n",
      "2               0             0             1            0          1   \n",
      "3               1             0             0            1          0   \n",
      "4               0             1             0            1          0   \n",
      "\n",
      "   type_No  type_Yes  \n",
      "0        1         0  \n",
      "1        0         1  \n",
      "2        1         0  \n",
      "3        1         0  \n",
      "4        1         0  \n"
     ]
    },
    {
     "data": {
      "text/html": [
       "<div>\n",
       "<style scoped>\n",
       "    .dataframe tbody tr th:only-of-type {\n",
       "        vertical-align: middle;\n",
       "    }\n",
       "\n",
       "    .dataframe tbody tr th {\n",
       "        vertical-align: top;\n",
       "    }\n",
       "\n",
       "    .dataframe thead th {\n",
       "        text-align: right;\n",
       "    }\n",
       "</style>\n",
       "<table border=\"1\" class=\"dataframe\">\n",
       "  <thead>\n",
       "    <tr style=\"text-align: right;\">\n",
       "      <th></th>\n",
       "      <th>mort</th>\n",
       "      <th>age</th>\n",
       "      <th>wbc</th>\n",
       "      <th>type_medical</th>\n",
       "      <th>type_surgery</th>\n",
       "      <th>type_male</th>\n",
       "      <th>type_Yes</th>\n",
       "    </tr>\n",
       "  </thead>\n",
       "  <tbody>\n",
       "    <tr>\n",
       "      <th>0</th>\n",
       "      <td>1</td>\n",
       "      <td>62</td>\n",
       "      <td>6.5</td>\n",
       "      <td>0</td>\n",
       "      <td>1</td>\n",
       "      <td>1</td>\n",
       "      <td>0</td>\n",
       "    </tr>\n",
       "    <tr>\n",
       "      <th>1</th>\n",
       "      <td>1</td>\n",
       "      <td>67</td>\n",
       "      <td>6.5</td>\n",
       "      <td>1</td>\n",
       "      <td>0</td>\n",
       "      <td>1</td>\n",
       "      <td>1</td>\n",
       "    </tr>\n",
       "    <tr>\n",
       "      <th>2</th>\n",
       "      <td>1</td>\n",
       "      <td>93</td>\n",
       "      <td>9.3</td>\n",
       "      <td>0</td>\n",
       "      <td>1</td>\n",
       "      <td>1</td>\n",
       "      <td>0</td>\n",
       "    </tr>\n",
       "    <tr>\n",
       "      <th>3</th>\n",
       "      <td>1</td>\n",
       "      <td>71</td>\n",
       "      <td>4.4</td>\n",
       "      <td>0</td>\n",
       "      <td>0</td>\n",
       "      <td>0</td>\n",
       "      <td>0</td>\n",
       "    </tr>\n",
       "    <tr>\n",
       "      <th>4</th>\n",
       "      <td>1</td>\n",
       "      <td>72</td>\n",
       "      <td>12.3</td>\n",
       "      <td>1</td>\n",
       "      <td>0</td>\n",
       "      <td>0</td>\n",
       "      <td>0</td>\n",
       "    </tr>\n",
       "  </tbody>\n",
       "</table>\n",
       "</div>"
      ],
      "text/plain": [
       "   mort  age   wbc  type_medical  type_surgery  type_male  type_Yes\n",
       "0     1   62   6.5             0             1          1         0\n",
       "1     1   67   6.5             1             0          1         1\n",
       "2     1   93   9.3             0             1          1         0\n",
       "3     1   71   4.4             0             0          0         0\n",
       "4     1   72  12.3             1             0          0         0"
      ]
     },
     "execution_count": 20,
     "metadata": {},
     "output_type": "execute_result"
    }
   ],
   "source": [
    "# dummify categorical variables\n",
    "dummy_ranks = pd.get_dummies(dtcom[['type','gender','vaso']], prefix='type')\n",
    "print(dummy_ranks.head())\n",
    "# create a clean data frame for the regression\n",
    "cols_to_keep = ['mort', 'age', 'wbc']\n",
    "data = dtcom[cols_to_keep].join(dummy_ranks.drop(['type_emergency','type_female','type_No'],\n",
    "                                                axis=1))#drop baseline level of categorical variables\n",
    "data.head()"
   ]
  },
  {
   "cell_type": "code",
   "execution_count": 21,
   "metadata": {},
   "outputs": [
    {
     "data": {
      "image/png": "[encoded data removed]",
      "text/plain": [
       "<Figure size 432x288 with 2 Axes>"
      ]
     },
     "metadata": {
      "needs_background": "light"
     },
     "output_type": "display_data"
    }
   ],
   "source": [
    "#Check the independence between the independent variables\n",
    "sb.heatmap(data.corr())\n",
    "plt.show()"
   ]
  },
  {
   "cell_type": "code",
   "execution_count": 22,
   "metadata": {},
   "outputs": [
    {
     "data": {
      "text/html": [
       "<div>\n",
       "<style scoped>\n",
       "    .dataframe tbody tr th:only-of-type {\n",
       "        vertical-align: middle;\n",
       "    }\n",
       "\n",
       "    .dataframe tbody tr th {\n",
       "        vertical-align: top;\n",
       "    }\n",
       "\n",
       "    .dataframe thead th {\n",
       "        text-align: right;\n",
       "    }\n",
       "</style>\n",
       "<table border=\"1\" class=\"dataframe\">\n",
       "  <thead>\n",
       "    <tr style=\"text-align: right;\">\n",
       "      <th></th>\n",
       "      <th>age</th>\n",
       "      <th>wbc</th>\n",
       "      <th>type_medical</th>\n",
       "      <th>type_surgery</th>\n",
       "      <th>type_male</th>\n",
       "      <th>type_Yes</th>\n",
       "      <th>intercept</th>\n",
       "    </tr>\n",
       "  </thead>\n",
       "  <tbody>\n",
       "    <tr>\n",
       "      <th>0</th>\n",
       "      <td>62</td>\n",
       "      <td>6.5</td>\n",
       "      <td>0</td>\n",
       "      <td>1</td>\n",
       "      <td>1</td>\n",
       "      <td>0</td>\n",
       "      <td>1.0</td>\n",
       "    </tr>\n",
       "    <tr>\n",
       "      <th>1</th>\n",
       "      <td>67</td>\n",
       "      <td>6.5</td>\n",
       "      <td>1</td>\n",
       "      <td>0</td>\n",
       "      <td>1</td>\n",
       "      <td>1</td>\n",
       "      <td>1.0</td>\n",
       "    </tr>\n",
       "    <tr>\n",
       "      <th>2</th>\n",
       "      <td>93</td>\n",
       "      <td>9.3</td>\n",
       "      <td>0</td>\n",
       "      <td>1</td>\n",
       "      <td>1</td>\n",
       "      <td>0</td>\n",
       "      <td>1.0</td>\n",
       "    </tr>\n",
       "    <tr>\n",
       "      <th>3</th>\n",
       "      <td>71</td>\n",
       "      <td>4.4</td>\n",
       "      <td>0</td>\n",
       "      <td>0</td>\n",
       "      <td>0</td>\n",
       "      <td>0</td>\n",
       "      <td>1.0</td>\n",
       "    </tr>\n",
       "    <tr>\n",
       "      <th>4</th>\n",
       "      <td>72</td>\n",
       "      <td>12.3</td>\n",
       "      <td>1</td>\n",
       "      <td>0</td>\n",
       "      <td>0</td>\n",
       "      <td>0</td>\n",
       "      <td>1.0</td>\n",
       "    </tr>\n",
       "  </tbody>\n",
       "</table>\n",
       "</div>"
      ],
      "text/plain": [
       "   age   wbc  type_medical  type_surgery  type_male  type_Yes  intercept\n",
       "0   62   6.5             0             1          1         0        1.0\n",
       "1   67   6.5             1             0          1         1        1.0\n",
       "2   93   9.3             0             1          1         0        1.0\n",
       "3   71   4.4             0             0          0         0        1.0\n",
       "4   72  12.3             1             0          0         0        1.0"
      ]
     },
     "execution_count": 22,
     "metadata": {},
     "output_type": "execute_result"
    }
   ],
   "source": [
    "# manually add the intercept\n",
    "data['intercept'] = 1.0\n",
    "data.loc[:,\"age\":].head()"
   ]
  },
  {
   "cell_type": "code",
   "execution_count": 23,
   "metadata": {},
   "outputs": [],
   "source": [
    "#Logistic Regression\n",
    "logit = sm.Logit(data['mort'], data.loc[:,\"age\":])"
   ]
  },
  {
   "cell_type": "code",
   "execution_count": 24,
   "metadata": {},
   "outputs": [
    {
     "name": "stdout",
     "output_type": "stream",
     "text": [
      "                 Generalized Linear Model Regression Results                  \n",
      "==============================================================================\n",
      "Dep. Variable:                   mort   No. Observations:                  500\n",
      "Model:                            GLM   Df Residuals:                      493\n",
      "Model Family:                Binomial   Df Model:                            6\n",
      "Link Function:                  logit   Scale:                          1.0000\n",
      "Method:                          IRLS   Log-Likelihood:                -184.73\n",
      "Date:                Tue, 11 Jun 2019   Deviance:                       369.47\n",
      "Time:                        20:32:21   Pearson chi2:                     425.\n",
      "No. Iterations:                     6   Covariance Type:             nonrobust\n",
      "================================================================================\n",
      "                   coef    std err          z      P>|z|      [0.025      0.975]\n",
      "--------------------------------------------------------------------------------\n",
      "age              0.1077      0.012      8.719      0.000       0.084       0.132\n",
      "wbc             -0.0241      0.028     -0.855      0.392      -0.079       0.031\n",
      "type_medical     0.2896      0.353      0.821      0.412      -0.402       0.981\n",
      "type_surgery    -1.2734      0.305     -4.169      0.000      -1.872      -0.675\n",
      "type_male        0.1639      0.274      0.598      0.550      -0.373       0.701\n",
      "type_Yes         1.6085      0.361      4.458      0.000       0.901       2.316\n",
      "intercept       -5.6834      0.876     -6.485      0.000      -7.401      -3.966\n",
      "================================================================================\n"
     ]
    },
    {
     "data": {
      "text/html": [
       "<div>\n",
       "<style scoped>\n",
       "    .dataframe tbody tr th:only-of-type {\n",
       "        vertical-align: middle;\n",
       "    }\n",
       "\n",
       "    .dataframe tbody tr th {\n",
       "        vertical-align: top;\n",
       "    }\n",
       "\n",
       "    .dataframe thead th {\n",
       "        text-align: right;\n",
       "    }\n",
       "</style>\n",
       "<table border=\"1\" class=\"dataframe\">\n",
       "  <thead>\n",
       "    <tr style=\"text-align: right;\">\n",
       "      <th></th>\n",
       "      <th>OR(95%CI)</th>\n",
       "      <th>pvalue</th>\n",
       "    </tr>\n",
       "  </thead>\n",
       "  <tbody>\n",
       "    <tr>\n",
       "      <th>age</th>\n",
       "      <td>1.087(1.141,1.114)</td>\n",
       "      <td>&lt;0.001</td>\n",
       "    </tr>\n",
       "    <tr>\n",
       "      <th>wbc</th>\n",
       "      <td>0.924(1.032,0.976)</td>\n",
       "      <td>0.3924</td>\n",
       "    </tr>\n",
       "    <tr>\n",
       "      <th>type_medical</th>\n",
       "      <td>0.669(2.667,1.336)</td>\n",
       "      <td>0.4118</td>\n",
       "    </tr>\n",
       "    <tr>\n",
       "      <th>type_surgery</th>\n",
       "      <td>0.154(0.509,0.28)</td>\n",
       "      <td>&lt;0.001</td>\n",
       "    </tr>\n",
       "    <tr>\n",
       "      <th>type_male</th>\n",
       "      <td>0.688(2.016,1.178)</td>\n",
       "      <td>0.5499</td>\n",
       "    </tr>\n",
       "    <tr>\n",
       "      <th>type_Yes</th>\n",
       "      <td>2.463(10.133,4.995)</td>\n",
       "      <td>&lt;0.001</td>\n",
       "    </tr>\n",
       "    <tr>\n",
       "      <th>intercept</th>\n",
       "      <td>0.001(0.019,0.003)</td>\n",
       "      <td>&lt;0.001</td>\n",
       "    </tr>\n",
       "  </tbody>\n",
       "</table>\n",
       "</div>"
      ],
      "text/plain": [
       "                        OR(95%CI)  pvalue\n",
       "age            1.087(1.141,1.114)  <0.001\n",
       "wbc            0.924(1.032,0.976)  0.3924\n",
       "type_medical   0.669(2.667,1.336)  0.4118\n",
       "type_surgery    0.154(0.509,0.28)  <0.001\n",
       "type_male      0.688(2.016,1.178)  0.5499\n",
       "type_Yes      2.463(10.133,4.995)  <0.001\n",
       "intercept      0.001(0.019,0.003)  <0.001"
      ]
     },
     "execution_count": 24,
     "metadata": {},
     "output_type": "execute_result"
    }
   ],
   "source": [
    "# fit the model and output a publication style Table using statsmodels\n",
    "glm_binom = sm.GLM(data['mort'], data.loc[:,\"age\":], family=sm.families.Binomial())\n",
    "res = glm_binom.fit()\n",
    "print(res.summary())\n",
    "params = res.params\n",
    "conf = res.conf_int()\n",
    "conf['OR'] = params\n",
    "conf.columns = ['OR','2.5%', '97.5%']\n",
    "dtOR = np.exp(conf).round(3)\n",
    "dtOR_str = dtOR['OR'].astype(str)+'('+dtOR['2.5%'].astype(str)+','+dtOR['97.5%'].astype(str)+')'\n",
    "dtOR_str =pd.DataFrame(dtOR_str,columns=['OR(95%CI)'])\n",
    "dtP = pd.DataFrame(res.pvalues).round(4)\n",
    "dtP.where(dtP>=0.001,\"<0.001\",inplace=True)\n",
    "dtP.columns = [\"pvalue\"]\n",
    "dtOR_str.join(dtP)"
   ]
  },
  {
   "cell_type": "code",
   "execution_count": 25,
   "metadata": {},
   "outputs": [
    {
     "name": "stderr",
     "output_type": "stream",
     "text": [
      "/Users/zhang/anaconda3/lib/python3.7/site-packages/pandas/core/groupby/generic.py:1315: FutureWarning: using a dict with renaming is deprecated and will be removed in a future version\n",
      "  return super(DataFrameGroupBy, self).aggregate(arg, *args, **kwargs)\n"
     ]
    },
    {
     "data": {
      "text/html": [
       "<div>\n",
       "<style scoped>\n",
       "    .dataframe tbody tr th:only-of-type {\n",
       "        vertical-align: middle;\n",
       "    }\n",
       "\n",
       "    .dataframe tbody tr th {\n",
       "        vertical-align: top;\n",
       "    }\n",
       "\n",
       "    .dataframe thead tr th {\n",
       "        text-align: left;\n",
       "    }\n",
       "</style>\n",
       "<table border=\"1\" class=\"dataframe\">\n",
       "  <thead>\n",
       "    <tr>\n",
       "      <th></th>\n",
       "      <th>groups</th>\n",
       "      <th colspan=\"2\" halign=\"left\">Yest</th>\n",
       "      <th colspan=\"3\" halign=\"left\">Yobs</th>\n",
       "    </tr>\n",
       "    <tr>\n",
       "      <th></th>\n",
       "      <th></th>\n",
       "      <th>YestP</th>\n",
       "      <th>YestN</th>\n",
       "      <th>YobsP</th>\n",
       "      <th>YobsN</th>\n",
       "      <th>TotalN</th>\n",
       "    </tr>\n",
       "  </thead>\n",
       "  <tbody>\n",
       "    <tr>\n",
       "      <th>0</th>\n",
       "      <td>0</td>\n",
       "      <td>0.151109</td>\n",
       "      <td>3.777726</td>\n",
       "      <td>0.20</td>\n",
       "      <td>5</td>\n",
       "      <td>25</td>\n",
       "    </tr>\n",
       "    <tr>\n",
       "      <th>1</th>\n",
       "      <td>1</td>\n",
       "      <td>0.313599</td>\n",
       "      <td>7.839977</td>\n",
       "      <td>0.44</td>\n",
       "      <td>11</td>\n",
       "      <td>25</td>\n",
       "    </tr>\n",
       "    <tr>\n",
       "      <th>2</th>\n",
       "      <td>2</td>\n",
       "      <td>0.428740</td>\n",
       "      <td>10.718489</td>\n",
       "      <td>0.44</td>\n",
       "      <td>11</td>\n",
       "      <td>25</td>\n",
       "    </tr>\n",
       "    <tr>\n",
       "      <th>3</th>\n",
       "      <td>3</td>\n",
       "      <td>0.513011</td>\n",
       "      <td>12.825274</td>\n",
       "      <td>0.32</td>\n",
       "      <td>8</td>\n",
       "      <td>25</td>\n",
       "    </tr>\n",
       "    <tr>\n",
       "      <th>4</th>\n",
       "      <td>4</td>\n",
       "      <td>0.588244</td>\n",
       "      <td>14.706094</td>\n",
       "      <td>0.52</td>\n",
       "      <td>13</td>\n",
       "      <td>25</td>\n",
       "    </tr>\n",
       "    <tr>\n",
       "      <th>5</th>\n",
       "      <td>5</td>\n",
       "      <td>0.660100</td>\n",
       "      <td>16.502503</td>\n",
       "      <td>0.72</td>\n",
       "      <td>18</td>\n",
       "      <td>25</td>\n",
       "    </tr>\n",
       "    <tr>\n",
       "      <th>6</th>\n",
       "      <td>6</td>\n",
       "      <td>0.732706</td>\n",
       "      <td>18.317648</td>\n",
       "      <td>0.72</td>\n",
       "      <td>18</td>\n",
       "      <td>25</td>\n",
       "    </tr>\n",
       "    <tr>\n",
       "      <th>7</th>\n",
       "      <td>7</td>\n",
       "      <td>0.776239</td>\n",
       "      <td>19.405969</td>\n",
       "      <td>0.72</td>\n",
       "      <td>18</td>\n",
       "      <td>25</td>\n",
       "    </tr>\n",
       "    <tr>\n",
       "      <th>8</th>\n",
       "      <td>8</td>\n",
       "      <td>0.824483</td>\n",
       "      <td>20.612070</td>\n",
       "      <td>0.84</td>\n",
       "      <td>21</td>\n",
       "      <td>25</td>\n",
       "    </tr>\n",
       "    <tr>\n",
       "      <th>9</th>\n",
       "      <td>9</td>\n",
       "      <td>0.854769</td>\n",
       "      <td>21.369230</td>\n",
       "      <td>0.92</td>\n",
       "      <td>23</td>\n",
       "      <td>25</td>\n",
       "    </tr>\n",
       "    <tr>\n",
       "      <th>10</th>\n",
       "      <td>10</td>\n",
       "      <td>0.889821</td>\n",
       "      <td>22.245525</td>\n",
       "      <td>0.84</td>\n",
       "      <td>21</td>\n",
       "      <td>25</td>\n",
       "    </tr>\n",
       "    <tr>\n",
       "      <th>11</th>\n",
       "      <td>11</td>\n",
       "      <td>0.916520</td>\n",
       "      <td>22.913002</td>\n",
       "      <td>0.96</td>\n",
       "      <td>24</td>\n",
       "      <td>25</td>\n",
       "    </tr>\n",
       "    <tr>\n",
       "      <th>12</th>\n",
       "      <td>12</td>\n",
       "      <td>0.932222</td>\n",
       "      <td>23.305540</td>\n",
       "      <td>0.92</td>\n",
       "      <td>23</td>\n",
       "      <td>25</td>\n",
       "    </tr>\n",
       "    <tr>\n",
       "      <th>13</th>\n",
       "      <td>13</td>\n",
       "      <td>0.948136</td>\n",
       "      <td>23.703407</td>\n",
       "      <td>0.92</td>\n",
       "      <td>23</td>\n",
       "      <td>25</td>\n",
       "    </tr>\n",
       "    <tr>\n",
       "      <th>14</th>\n",
       "      <td>14</td>\n",
       "      <td>0.957331</td>\n",
       "      <td>23.933263</td>\n",
       "      <td>0.96</td>\n",
       "      <td>24</td>\n",
       "      <td>25</td>\n",
       "    </tr>\n",
       "    <tr>\n",
       "      <th>15</th>\n",
       "      <td>15</td>\n",
       "      <td>0.966568</td>\n",
       "      <td>24.164206</td>\n",
       "      <td>0.96</td>\n",
       "      <td>24</td>\n",
       "      <td>25</td>\n",
       "    </tr>\n",
       "    <tr>\n",
       "      <th>16</th>\n",
       "      <td>16</td>\n",
       "      <td>0.975653</td>\n",
       "      <td>24.391315</td>\n",
       "      <td>1.00</td>\n",
       "      <td>25</td>\n",
       "      <td>25</td>\n",
       "    </tr>\n",
       "    <tr>\n",
       "      <th>17</th>\n",
       "      <td>17</td>\n",
       "      <td>0.983424</td>\n",
       "      <td>24.585588</td>\n",
       "      <td>1.00</td>\n",
       "      <td>25</td>\n",
       "      <td>25</td>\n",
       "    </tr>\n",
       "    <tr>\n",
       "      <th>18</th>\n",
       "      <td>18</td>\n",
       "      <td>0.990861</td>\n",
       "      <td>24.771526</td>\n",
       "      <td>1.00</td>\n",
       "      <td>25</td>\n",
       "      <td>25</td>\n",
       "    </tr>\n",
       "    <tr>\n",
       "      <th>19</th>\n",
       "      <td>19</td>\n",
       "      <td>0.996466</td>\n",
       "      <td>24.911649</td>\n",
       "      <td>1.00</td>\n",
       "      <td>25</td>\n",
       "      <td>25</td>\n",
       "    </tr>\n",
       "  </tbody>\n",
       "</table>\n",
       "</div>"
      ],
      "text/plain": [
       "   groups      Yest             Yobs             \n",
       "              YestP      YestN YobsP YobsN TotalN\n",
       "0       0  0.151109   3.777726  0.20     5     25\n",
       "1       1  0.313599   7.839977  0.44    11     25\n",
       "2       2  0.428740  10.718489  0.44    11     25\n",
       "3       3  0.513011  12.825274  0.32     8     25\n",
       "4       4  0.588244  14.706094  0.52    13     25\n",
       "5       5  0.660100  16.502503  0.72    18     25\n",
       "6       6  0.732706  18.317648  0.72    18     25\n",
       "7       7  0.776239  19.405969  0.72    18     25\n",
       "8       8  0.824483  20.612070  0.84    21     25\n",
       "9       9  0.854769  21.369230  0.92    23     25\n",
       "10     10  0.889821  22.245525  0.84    21     25\n",
       "11     11  0.916520  22.913002  0.96    24     25\n",
       "12     12  0.932222  23.305540  0.92    23     25\n",
       "13     13  0.948136  23.703407  0.92    23     25\n",
       "14     14  0.957331  23.933263  0.96    24     25\n",
       "15     15  0.966568  24.164206  0.96    24     25\n",
       "16     16  0.975653  24.391315  1.00    25     25\n",
       "17     17  0.983424  24.585588  1.00    25     25\n",
       "18     18  0.990861  24.771526  1.00    25     25\n",
       "19     19  0.996466  24.911649  1.00    25     25"
      ]
     },
     "execution_count": 25,
     "metadata": {},
     "output_type": "execute_result"
    }
   ],
   "source": [
    "#calibration plot\n",
    "Ngroup=20\n",
    "dtObs_Est = pd.DataFrame({'Yobs':data.mort,'Yest':res.mu})\n",
    "dtObs_Est['groups']=pd.qcut(dtObs_Est.Yest, Ngroup,labels=range(Ngroup))\n",
    "dtObs_EstAgg =dtObs_Est.groupby('groups',as_index=False).agg({\n",
    "    'Yest':{\n",
    "        'YestP': 'mean',\n",
    "        'YestN': lambda x: sum(x)\n",
    "    },\n",
    "    'Yobs':{\n",
    "        'YobsP': lambda x: sum(x)/len(x),\n",
    "        'YobsN': lambda x: sum(x),\n",
    "        'TotalN': lambda x: len(x)\n",
    "    }   \n",
    "}) \n",
    "dtObs_EstAgg"
   ]
  },
  {
   "cell_type": "code",
   "execution_count": 26,
   "metadata": {},
   "outputs": [
    {
     "name": "stderr",
     "output_type": "stream",
     "text": [
      "/Users/zhang/anaconda3/lib/python3.7/site-packages/numpy/core/fromnumeric.py:2389: FutureWarning: Method .ptp is deprecated and will be removed in a future version. Use numpy.ptp instead.\n",
      "  return ptp(axis=axis, out=out, **kwargs)\n"
     ]
    },
    {
     "data": {
      "image/png": "[encoded data removed]",
      "text/plain": [
       "<Figure size 432x288 with 1 Axes>"
      ]
     },
     "metadata": {
      "needs_background": "light"
     },
     "output_type": "display_data"
    }
   ],
   "source": [
    "from statsmodels.graphics.api import abline_plot\n",
    "fig, ax = plt.subplots()\n",
    "ax.scatter(dtObs_EstAgg.Yest.YestP, dtObs_EstAgg.Yobs.YobsP)\n",
    "line_fit = sm.OLS(dtObs_EstAgg.Yobs.YobsP, \n",
    "                  sm.add_constant(dtObs_EstAgg.Yest.YestP, prepend=True)).fit()\n",
    "abline_plot(model_results=line_fit, ax=ax)\n",
    "ax.set_title('Calibration Plot with group N = 20')\n",
    "ax.set_ylabel('Observed values')\n",
    "ax.set_xlabel('Fitted values');"
   ]
  },
  {
   "cell_type": "markdown",
   "metadata": {},
   "source": [
    "Math for the Homser-Lemeshow test\n",
    "Data is first regrouped by ordering the predicted probabilities and forming the number of groups, g.\n",
    "The Hosmer-Lemeshow test statistic is calculated with the following formula:\n",
    "\\begin{align}\n",
    "G_{HL}^2  = \\sum_{j=1}^g \\frac{(O_j-E_j)^2}{E_j(1-\\frac{E_j}{n_j})}  \\sim \\chi_{g-2}^2 \\\\\n",
    "\\end{align}\n",
    "where $g$ denotes the number of groups, and $j$ refers to a specific group; $ O_j $ is the observed number of event in group $j$; $E_j$ is the expected number of event in group $j$; and $n_j$ is the total number of patients in group $j$. The degree of freedom for the $\\chi^2$ distribution is $g-2$."
   ]
  },
  {
   "cell_type": "code",
   "execution_count": 27,
   "metadata": {},
   "outputs": [
    {
     "name": "stdout",
     "output_type": "stream",
     "text": [
      "p value for HL test:0.8751530946877285\n"
     ]
    }
   ],
   "source": [
    "#Homser-Lemeshow test from scratch\n",
    "from scipy.stats import chi2\n",
    "HL=((dtObs_EstAgg.Yobs.YobsN-dtObs_EstAgg.Yest.YestN)**2/\n",
    "    (dtObs_EstAgg.Yest.YestN*(1-dtObs_EstAgg.Yest.YestN/dtObs_EstAgg.Yobs.TotalN))).sum()\n",
    "HL\n",
    "pvalue=1-chi2.cdf(HL,Ngroup-2)\n",
    "print('p value for HL test:' + pvalue.astype(str))"
   ]
  },
  {
   "cell_type": "code",
   "execution_count": 41,
   "metadata": {},
   "outputs": [
    {
     "data": {
      "image/png": "[encoded data removed]",
      "text/plain": [
       "<Figure size 432x288 with 1 Axes>"
      ]
     },
     "metadata": {
      "needs_background": "light"
     },
     "output_type": "display_data"
    }
   ],
   "source": [
    "#Discrimination AUC\n",
    "from sklearn import metrics\n",
    "import pandas as pd\n",
    "\n",
    "fpr, tpr, _ = metrics.roc_curve(data.mort, res.mu)\n",
    "plt.figure()\n",
    "##Adding the ROC\n",
    "plt.plot(fpr, tpr, color='red',\n",
    " lw=2, label='ROC curve')\n",
    "##Random FPR and TPR\n",
    "plt.plot([0, 1], [0, 1], color='blue', lw=2, linestyle='--')\n",
    "##Title and label\n",
    "plt.xlabel('FPR')\n",
    "plt.ylabel('TPR')\n",
    "plt.title('ROC curve')\n",
    "plt.show()"
   ]
  },
  {
   "cell_type": "code",
   "execution_count": 44,
   "metadata": {},
   "outputs": [
    {
     "name": "stdout",
     "output_type": "stream",
     "text": [
      "Collecting dcapy\n",
      "\u001b[31m  Could not find a version that satisfies the requirement dcapy (from versions: )\u001b[0m\n",
      "\u001b[31mNo matching distribution found for dcapy\u001b[0m\n"
     ]
    }
   ],
   "source": [
    "!pip install dcapy"
   ]
  },
  {
   "cell_type": "code",
   "execution_count": 30,
   "metadata": {},
   "outputs": [
    {
     "data": {
      "image/png": "[encoded data removed]",
      "text/plain": [
       "<Figure size 432x288 with 1 Axes>"
      ]
     },
     "metadata": {
      "needs_background": "light"
     },
     "output_type": "display_data"
    }
   ],
   "source": [
    "from scipy import stats\n",
    "\n",
    "fig, ax = plt.subplots()\n",
    "\n",
    "resid = res.resid_deviance.copy()\n",
    "resid_std = stats.zscore(resid)\n",
    "ax.hist(resid_std, bins=25)\n",
    "ax.set_title('Histogram of standardized deviance residuals');"
   ]
  },
  {
   "cell_type": "code",
   "execution_count": 31,
   "metadata": {},
   "outputs": [
    {
     "data": {
      "image/png": "[encoded data removed]",
      "text/plain": [
       "<Figure size 432x288 with 1 Axes>"
      ]
     },
     "execution_count": 31,
     "metadata": {},
     "output_type": "execute_result"
    },
    {
     "data": {
      "image/png": "[encoded data removed]",
      "text/plain": [
       "<Figure size 432x288 with 1 Axes>"
      ]
     },
     "metadata": {
      "needs_background": "light"
     },
     "output_type": "display_data"
    }
   ],
   "source": [
    "from statsmodels import graphics\n",
    "graphics.gofplots.qqplot(resid, line='r')"
   ]
  },
  {
   "cell_type": "code",
   "execution_count": null,
   "metadata": {},
   "outputs": [],
   "source": []
  }
 ],
 "metadata": {
  "kernelspec": {
   "display_name": "Python 3",
   "language": "python",
   "name": "python3"
  },
  "language_info": {
   "codemirror_mode": {
    "name": "ipython",
    "version": 3
   },
   "file_extension": ".py",
   "mimetype": "text/x-python",
   "name": "python",
   "nbconvert_exporter": "python",
   "pygments_lexer": "ipython3",
   "version": "3.7.3"
  }
 },
 "nbformat": 4,
 "nbformat_minor": 2
}
